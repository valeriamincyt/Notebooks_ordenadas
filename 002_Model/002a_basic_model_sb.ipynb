{
  "cells": [
    {
      "cell_type": "code",
      "source": [
        "!pip install unidecode\n",
        "!pip install tokenizers"
      ],
      "metadata": {
        "colab": {
          "base_uri": "https://localhost:8080/"
        },
        "id": "RPgVDUonpLd9",
        "outputId": "a60f6f6d-e3fa-47a8-eba9-0fb8bc34f50e"
      },
      "id": "RPgVDUonpLd9",
      "execution_count": null,
      "outputs": [
        {
          "output_type": "stream",
          "name": "stdout",
          "text": [
            "Collecting unidecode\n",
            "  Downloading Unidecode-1.3.8-py3-none-any.whl.metadata (13 kB)\n",
            "Downloading Unidecode-1.3.8-py3-none-any.whl (235 kB)\n",
            "\u001b[2K   \u001b[90m━━━━━━━━━━━━━━━━━━━━━━━━━━━━━━━━━━━━━━━━\u001b[0m \u001b[32m235.5/235.5 kB\u001b[0m \u001b[31m6.9 MB/s\u001b[0m eta \u001b[36m0:00:00\u001b[0m\n",
            "\u001b[?25hInstalling collected packages: unidecode\n",
            "Successfully installed unidecode-1.3.8\n",
            "Requirement already satisfied: tokenizers in /usr/local/lib/python3.10/dist-packages (0.19.1)\n",
            "Requirement already satisfied: huggingface-hub<1.0,>=0.16.4 in /usr/local/lib/python3.10/dist-packages (from tokenizers) (0.23.5)\n",
            "Requirement already satisfied: filelock in /usr/local/lib/python3.10/dist-packages (from huggingface-hub<1.0,>=0.16.4->tokenizers) (3.15.4)\n",
            "Requirement already satisfied: fsspec>=2023.5.0 in /usr/local/lib/python3.10/dist-packages (from huggingface-hub<1.0,>=0.16.4->tokenizers) (2024.6.1)\n",
            "Requirement already satisfied: packaging>=20.9 in /usr/local/lib/python3.10/dist-packages (from huggingface-hub<1.0,>=0.16.4->tokenizers) (24.1)\n",
            "Requirement already satisfied: pyyaml>=5.1 in /usr/local/lib/python3.10/dist-packages (from huggingface-hub<1.0,>=0.16.4->tokenizers) (6.0.2)\n",
            "Requirement already satisfied: requests in /usr/local/lib/python3.10/dist-packages (from huggingface-hub<1.0,>=0.16.4->tokenizers) (2.32.3)\n",
            "Requirement already satisfied: tqdm>=4.42.1 in /usr/local/lib/python3.10/dist-packages (from huggingface-hub<1.0,>=0.16.4->tokenizers) (4.66.5)\n",
            "Requirement already satisfied: typing-extensions>=3.7.4.3 in /usr/local/lib/python3.10/dist-packages (from huggingface-hub<1.0,>=0.16.4->tokenizers) (4.12.2)\n",
            "Requirement already satisfied: charset-normalizer<4,>=2 in /usr/local/lib/python3.10/dist-packages (from requests->huggingface-hub<1.0,>=0.16.4->tokenizers) (3.3.2)\n",
            "Requirement already satisfied: idna<4,>=2.5 in /usr/local/lib/python3.10/dist-packages (from requests->huggingface-hub<1.0,>=0.16.4->tokenizers) (3.7)\n",
            "Requirement already satisfied: urllib3<3,>=1.21.1 in /usr/local/lib/python3.10/dist-packages (from requests->huggingface-hub<1.0,>=0.16.4->tokenizers) (2.0.7)\n",
            "Requirement already satisfied: certifi>=2017.4.17 in /usr/local/lib/python3.10/dist-packages (from requests->huggingface-hub<1.0,>=0.16.4->tokenizers) (2024.7.4)\n"
          ]
        }
      ]
    },
    {
      "cell_type": "code",
      "execution_count": null,
      "id": "efc67f40",
      "metadata": {
        "id": "efc67f40"
      },
      "outputs": [],
      "source": [
        "import pickle\n",
        "import json\n",
        "import os\n",
        "import math\n",
        "import unidecode\n",
        "import tensorflow as tf\n",
        "import pandas as pd\n",
        "import numpy as np\n",
        "from datetime import datetime\n",
        "\n",
        "from collections import Counter\n",
        "from math import ceil\n",
        "from sklearn.model_selection import train_test_split"
      ]
    },
    {
      "cell_type": "code",
      "execution_count": null,
      "id": "47f34955",
      "metadata": {
        "id": "47f34955"
      },
      "outputs": [],
      "source": [
        "# HuggingFace library to train a tokenizer\n",
        "from tokenizers import Tokenizer, normalizers\n",
        "from tokenizers.models import WordPiece\n",
        "from tokenizers.normalizers import NFD, Lowercase, StripAccents\n",
        "from tokenizers.pre_tokenizers import Whitespace\n",
        "from tokenizers.trainers import WordPieceTrainer"
      ]
    },
    {
      "cell_type": "markdown",
      "id": "80df783e",
      "metadata": {
        "id": "80df783e"
      },
      "source": [
        "### Combining the training data from 001 notebook and artificial data"
      ]
    },
    {
      "cell_type": "code",
      "execution_count": null,
      "id": "b4f54477",
      "metadata": {
        "colab": {
          "base_uri": "https://localhost:8080/"
        },
        "id": "b4f54477",
        "outputId": "600e4778-1d9e-4836-cc23-04e5542ca4c9"
      },
      "outputs": [
        {
          "output_type": "stream",
          "name": "stdout",
          "text": [
            "(7650, 2)\n",
            "(13044, 2)\n"
          ]
        }
      ],
      "source": [
        "# All training samples that have less than 50 different version of the affiliation text\n",
        "# ---- Created in previous notebook\n",
        "lower_than = pd.read_parquet(\"lower_than_50.parquet\")\n",
        "\n",
        "# All training samples that have more than 50 different version of the affiliation text\n",
        "# ---- Created in previous notebook\n",
        "more_than = pd.read_parquet(\"more_than_50.parquet\")\n",
        "\n",
        "print(lower_than.shape)\n",
        "print(more_than.shape)"
      ]
    },
    {
      "cell_type": "code",
      "execution_count": null,
      "id": "8f756a12",
      "metadata": {
        "id": "8f756a12"
      },
      "outputs": [],
      "source": [
        "full_affs_data = pd.concat([more_than, lower_than],\n",
        "                           axis=0).reset_index(drop=True)"
      ]
    },
    {
      "cell_type": "code",
      "execution_count": null,
      "id": "fb390e26",
      "metadata": {
        "id": "fb390e26"
      },
      "outputs": [],
      "source": [
        "full_affs_data.to_parquet(\"full_affs_data.parquet\")"
      ]
    },
    {
      "cell_type": "code",
      "execution_count": null,
      "id": "1035dc08",
      "metadata": {
        "colab": {
          "base_uri": "https://localhost:8080/"
        },
        "id": "1035dc08",
        "outputId": "087a3d0f-dd10-462e-c7aa-b6e9d19e1687"
      },
      "outputs": [
        {
          "output_type": "execute_result",
          "data": {
            "text/plain": [
              "(20694, 2)"
            ]
          },
          "metadata": {},
          "execution_count": 9
        }
      ],
      "source": [
        "full_affs_data.shape"
      ]
    },
    {
      "cell_type": "code",
      "execution_count": null,
      "id": "dc06758d",
      "metadata": {
        "id": "dc06758d"
      },
      "outputs": [],
      "source": [
        "full_affs_data['text_len'] = full_affs_data['original_affiliation'].apply(len)"
      ]
    },
    {
      "cell_type": "code",
      "execution_count": null,
      "id": "6d923ca1",
      "metadata": {
        "id": "6d923ca1"
      },
      "outputs": [],
      "source": [
        "full_affs_data = full_affs_data[full_affs_data['text_len'] < 500][['original_affiliation','affiliation_id']].copy()"
      ]
    },
    {
      "cell_type": "code",
      "execution_count": null,
      "id": "cccad5f6",
      "metadata": {
        "colab": {
          "base_uri": "https://localhost:8080/"
        },
        "id": "cccad5f6",
        "outputId": "6d9a4dd4-feee-4ab5-e65d-15a7d7359c09"
      },
      "outputs": [
        {
          "output_type": "execute_result",
          "data": {
            "text/plain": [
              "(20515, 2)"
            ]
          },
          "metadata": {},
          "execution_count": 12
        }
      ],
      "source": [
        "full_affs_data.shape"
      ]
    },
    {
      "cell_type": "code",
      "execution_count": null,
      "id": "7ca1aae8",
      "metadata": {
        "id": "7ca1aae8"
      },
      "outputs": [],
      "source": [
        "full_affs_data['affiliation_id'] = full_affs_data['affiliation_id'].astype('str')"
      ]
    },
    {
      "cell_type": "markdown",
      "id": "7e12f21c",
      "metadata": {
        "id": "7e12f21c"
      },
      "source": [
        "### Processing and splitting the data"
      ]
    },
    {
      "cell_type": "code",
      "execution_count": null,
      "id": "237023d0",
      "metadata": {
        "id": "237023d0"
      },
      "outputs": [],
      "source": [
        "full_affs_data['processed_text'] = full_affs_data['original_affiliation'].apply(unidecode.unidecode)"
      ]
    },
    {
      "cell_type": "code",
      "execution_count": null,
      "id": "22e8bbfd",
      "metadata": {
        "id": "22e8bbfd"
      },
      "outputs": [],
      "source": [
        "train_data, val_data = train_test_split(full_affs_data, train_size=0.80, random_state=1)\n",
        "train_data = train_data.reset_index(drop=True).copy()\n",
        "val_data = val_data.reset_index(drop=True).copy()"
      ]
    },
    {
      "cell_type": "code",
      "execution_count": null,
      "id": "3f94e57e",
      "metadata": {
        "colab": {
          "base_uri": "https://localhost:8080/"
        },
        "id": "3f94e57e",
        "outputId": "e98ab9f0-5ca9-4525-ba2e-94f1db108c87"
      },
      "outputs": [
        {
          "output_type": "execute_result",
          "data": {
            "text/plain": [
              "(16412, 3)"
            ]
          },
          "metadata": {},
          "execution_count": 16
        }
      ],
      "source": [
        "train_data.shape"
      ]
    },
    {
      "cell_type": "code",
      "execution_count": null,
      "id": "81281ab0",
      "metadata": {
        "colab": {
          "base_uri": "https://localhost:8080/"
        },
        "id": "81281ab0",
        "outputId": "d85c2063-9547-4c71-a3f5-3e98e6c4ab23"
      },
      "outputs": [
        {
          "output_type": "execute_result",
          "data": {
            "text/plain": [
              "(4103, 3)"
            ]
          },
          "metadata": {},
          "execution_count": 17
        }
      ],
      "source": [
        "val_data.shape"
      ]
    },
    {
      "cell_type": "code",
      "execution_count": null,
      "id": "1ee2242a",
      "metadata": {
        "id": "1ee2242a"
      },
      "outputs": [],
      "source": [
        "affs_list_train = train_data['processed_text'].tolist()\n",
        "affs_list_val = val_data['processed_text'].tolist()"
      ]
    },
    {
      "cell_type": "code",
      "execution_count": null,
      "id": "ee7ec70c",
      "metadata": {
        "colab": {
          "base_uri": "https://localhost:8080/"
        },
        "id": "ee7ec70c",
        "outputId": "8f867a4d-de46-4ae5-fd01-3e6bb22377fc"
      },
      "outputs": [
        {
          "output_type": "stream",
          "name": "stdout",
          "text": [
            "Done\n"
          ]
        }
      ],
      "source": [
        "try:\n",
        "    os.system(\"rm aff_text.txt\")\n",
        "    print(\"Done\")\n",
        "except:\n",
        "    pass"
      ]
    },
    {
      "cell_type": "code",
      "execution_count": null,
      "id": "83afeec6",
      "metadata": {
        "id": "83afeec6"
      },
      "outputs": [],
      "source": [
        "# save the affiliation text that will be used to train a tokenizer\n",
        "with open(\"aff_text.txt\", \"w\") as f:\n",
        "    for aff in affs_list_train:\n",
        "        f.write(f\"{aff}\\n\")"
      ]
    },
    {
      "cell_type": "code",
      "execution_count": null,
      "id": "331b14ae",
      "metadata": {
        "colab": {
          "base_uri": "https://localhost:8080/"
        },
        "id": "331b14ae",
        "outputId": "4b3d669b-d1b6-4691-9b1a-ff75312f0b09"
      },
      "outputs": [
        {
          "output_type": "stream",
          "name": "stdout",
          "text": [
            "Done\n"
          ]
        }
      ],
      "source": [
        "try:\n",
        "    os.system(\"rm basic_model_tokenizer\")\n",
        "    print(\"Done\")\n",
        "except:\n",
        "    pass"
      ]
    },
    {
      "cell_type": "code",
      "execution_count": null,
      "id": "396120a8",
      "metadata": {
        "id": "396120a8"
      },
      "outputs": [],
      "source": [
        "full_affs_data[['processed_text','affiliation_id']].to_parquet(\"full_affs_data_processed.parquet\")"
      ]
    },
    {
      "cell_type": "markdown",
      "id": "0a90e2b7",
      "metadata": {
        "id": "0a90e2b7"
      },
      "source": [
        "### Creating the tokenizer for the basic model"
      ]
    },
    {
      "cell_type": "code",
      "execution_count": null,
      "id": "724890a7",
      "metadata": {
        "id": "724890a7"
      },
      "outputs": [],
      "source": [
        "wordpiece_tokenizer = Tokenizer(WordPiece(unk_token=\"[UNK]\"))\n",
        "\n",
        "# NFD Unicode, lowercase, and getting rid of accents (to make sure text is as readable as possible)\n",
        "wordpiece_tokenizer.normalizer = normalizers.Sequence([NFD(), Lowercase(), StripAccents()])\n",
        "\n",
        "# Splitting on whitespace\n",
        "wordpiece_tokenizer.pre_tokenizer = Whitespace()\n",
        "\n",
        "# Training a tokenizer on the training dataset\n",
        "trainer = WordPieceTrainer(vocab_size=3816, special_tokens=[\"[UNK]\"])\n",
        "files = [\"aff_text.txt\"]\n",
        "wordpiece_tokenizer.train(files, trainer)\n",
        "\n",
        "wordpiece_tokenizer.save(\"basic_model_tokenizer\")"
      ]
    },
    {
      "cell_type": "markdown",
      "id": "c37e4b4b",
      "metadata": {
        "id": "c37e4b4b"
      },
      "source": [
        "### Further processing of data with tokenizer"
      ]
    },
    {
      "cell_type": "code",
      "execution_count": null,
      "id": "1a923dfb",
      "metadata": {
        "id": "1a923dfb"
      },
      "outputs": [],
      "source": [
        "def max_len_and_pad(tok_sent):\n",
        "    \"\"\"\n",
        "    Truncates sequences with length higher than max_len and also pads the sequence\n",
        "    with zeroes up to the max_len.\n",
        "    \"\"\"\n",
        "    max_len = 128\n",
        "    tok_sent = tok_sent[:max_len]\n",
        "    tok_sent = tok_sent + [0]*(max_len - len(tok_sent))\n",
        "    return tok_sent\n",
        "\n",
        "def create_affiliation_vocab(x):\n",
        "    \"\"\"\n",
        "    Checks if affiliation is in vocab and if not, adds to the vocab.\n",
        "    \"\"\"\n",
        "    if x not in affiliation_vocab.keys():\n",
        "        affiliation_vocab[x]=len(affiliation_vocab)\n",
        "    return [affiliation_vocab[x]]"
      ]
    },
    {
      "cell_type": "code",
      "execution_count": null,
      "id": "deb6cb01",
      "metadata": {
        "id": "deb6cb01"
      },
      "outputs": [],
      "source": [
        "# initializing an empty affiliation vocab\n",
        "affiliation_vocab = {}\n",
        "\n",
        "# tokenizing the training dataset\n",
        "tokenized_output = []\n",
        "for i in affs_list_train:\n",
        "    tokenized_output.append(wordpiece_tokenizer.encode(i).ids)\n",
        "\n",
        "train_data['original_affiliation_tok'] = tokenized_output"
      ]
    },
    {
      "cell_type": "code",
      "execution_count": null,
      "id": "37d80c41",
      "metadata": {
        "id": "37d80c41"
      },
      "outputs": [],
      "source": [
        "# tokenizing the validation dataset\n",
        "tokenized_output = []\n",
        "for i in affs_list_val:\n",
        "    tokenized_output.append(wordpiece_tokenizer.encode(i).ids)\n",
        "\n",
        "val_data['original_affiliation_tok'] = tokenized_output"
      ]
    },
    {
      "cell_type": "code",
      "execution_count": null,
      "id": "f840adc2",
      "metadata": {
        "id": "f840adc2"
      },
      "outputs": [],
      "source": [
        "# applying max length cutoff and padding\n",
        "train_data['original_affiliation_model_input'] = train_data['original_affiliation_tok'].apply(max_len_and_pad)\n",
        "val_data['original_affiliation_model_input'] = val_data['original_affiliation_tok'].apply(max_len_and_pad)"
      ]
    },
    {
      "cell_type": "code",
      "execution_count": null,
      "id": "331f34e9",
      "metadata": {
        "id": "331f34e9"
      },
      "outputs": [],
      "source": [
        "# creating the label affiliation vocab\n",
        "train_data['label'] = train_data['affiliation_id'].apply(lambda x: create_affiliation_vocab(x))"
      ]
    },
    {
      "cell_type": "code",
      "execution_count": null,
      "id": "1f9e15f6",
      "metadata": {
        "colab": {
          "base_uri": "https://localhost:8080/"
        },
        "id": "1f9e15f6",
        "outputId": "a3a80d6c-52e5-4be1-e2ea-623597c41110"
      },
      "outputs": [
        {
          "output_type": "execute_result",
          "data": {
            "text/plain": [
              "328"
            ]
          },
          "metadata": {},
          "execution_count": 29
        }
      ],
      "source": [
        "len(affiliation_vocab)"
      ]
    },
    {
      "cell_type": "code",
      "execution_count": null,
      "id": "afdf7620",
      "metadata": {
        "id": "afdf7620"
      },
      "outputs": [],
      "source": [
        "val_data['label'] = val_data['affiliation_id'].apply(lambda x: [affiliation_vocab.get(x)])"
      ]
    },
    {
      "cell_type": "code",
      "execution_count": null,
      "id": "bee93ca0",
      "metadata": {
        "id": "bee93ca0"
      },
      "outputs": [],
      "source": [
        "train_data.to_parquet(\"train_data.parquet\")\n",
        "val_data.to_parquet(\"val_data.parquet\")"
      ]
    },
    {
      "cell_type": "code",
      "execution_count": null,
      "id": "d6994186",
      "metadata": {
        "id": "d6994186"
      },
      "outputs": [],
      "source": [
        "# saving the affiliation vocab\n",
        "with open(\"affiliation_vocab.pkl\",\"wb\") as f:\n",
        "    pickle.dump(affiliation_vocab, f)"
      ]
    },
    {
      "cell_type": "markdown",
      "id": "b9e469e1",
      "metadata": {
        "id": "b9e469e1"
      },
      "source": [
        "### Creating TFRecords from the training and validation datasets"
      ]
    },
    {
      "cell_type": "code",
      "execution_count": null,
      "id": "479533d5",
      "metadata": {
        "id": "479533d5"
      },
      "outputs": [],
      "source": [
        "train_data = pd.read_parquet(\"./train_data.parquet\")"
      ]
    },
    {
      "cell_type": "code",
      "execution_count": null,
      "id": "98e2dc29",
      "metadata": {
        "id": "98e2dc29"
      },
      "outputs": [],
      "source": [
        "val_data = pd.read_parquet(\"./val_data.parquet\")"
      ]
    },
    {
      "cell_type": "code",
      "execution_count": null,
      "id": "0c094892",
      "metadata": {
        "id": "0c094892"
      },
      "outputs": [],
      "source": [
        "# saving the affiliation vocab\n",
        "with open(\"affiliation_vocab.pkl\",\"rb\") as f:\n",
        "    affiliation_vocab = pickle.load(f)"
      ]
    },
    {
      "cell_type": "code",
      "execution_count": null,
      "id": "e56231dc",
      "metadata": {
        "id": "e56231dc"
      },
      "outputs": [],
      "source": [
        "def create_tfrecords_dataset(data, iter_num, dataset_type='train'):\n",
        "    \"\"\"\n",
        "    Creates a TF Dataset that can then be saved to a file to make it faster to read\n",
        "    data during training and allow for transferring of data between compute instances.\n",
        "    \"\"\"\n",
        "    ds = tf.data.Dataset.zip((tf.data.Dataset.from_tensor_slices(data['original_affiliation_model_input'].to_list()),\n",
        "                              tf.data.Dataset.from_tensor_slices(data['label'].to_list())))\n",
        "\n",
        "    serialized_features_dataset = ds.map(tf_serialize_example)\n",
        "\n",
        "    filename = f\"./training_data/{dataset_type}/{str(iter_num).zfill(4)}.tfrecord\"\n",
        "    writer = tf.data.experimental.TFRecordWriter(filename)\n",
        "    writer.write(serialized_features_dataset)"
      ]
    },
    {
      "cell_type": "code",
      "execution_count": null,
      "id": "9c27f6c6",
      "metadata": {
        "id": "9c27f6c6"
      },
      "outputs": [],
      "source": [
        "def tf_serialize_example(f0, f1):\n",
        "    \"\"\"\n",
        "    Serialization function.\n",
        "    \"\"\"\n",
        "    tf_string = tf.py_function(serialize_example, (f0, f1), tf.string)\n",
        "    return tf.reshape(tf_string, ())"
      ]
    },
    {
      "cell_type": "code",
      "execution_count": null,
      "id": "56124ea7",
      "metadata": {
        "id": "56124ea7"
      },
      "outputs": [],
      "source": [
        "def serialize_example(features, label):\n",
        "    \"\"\"\n",
        "    Takes in features and outputs them to a serialized string that can be written to\n",
        "    a file using the TFRecord Writer.\n",
        "    \"\"\"\n",
        "    features_list = tf.train.Int64List(value=features.numpy().tolist())\n",
        "    label_list = tf.train.Int64List(value=label.numpy().tolist())\n",
        "\n",
        "    features_feature = tf.train.Feature(int64_list = features_list)\n",
        "    label_feature = tf.train.Feature(int64_list = label_list)\n",
        "\n",
        "    features_for_example = {\n",
        "        'features': features_feature,\n",
        "        'label': label_feature\n",
        "    }\n",
        "\n",
        "    example_proto = tf.train.Example(features=tf.train.Features(feature=features_for_example))\n",
        "\n",
        "    return example_proto.SerializeToString()"
      ]
    },
    {
      "cell_type": "code",
      "execution_count": null,
      "id": "ab12d69d",
      "metadata": {
        "id": "ab12d69d"
      },
      "outputs": [],
      "source": [
        "# Making sure data is in the correct format before going into TFRecord\n",
        "train_data['original_affiliation_model_input'] = train_data['original_affiliation_model_input'] \\\n",
        ".apply(lambda x: np.asarray(x, dtype=np.int64))\n",
        "\n",
        "val_data['original_affiliation_model_input'] = val_data['original_affiliation_model_input'] \\\n",
        ".apply(lambda x: np.asarray(x, dtype=np.int64))"
      ]
    },
    {
      "cell_type": "code",
      "execution_count": null,
      "id": "b99925a4",
      "metadata": {
        "colab": {
          "base_uri": "https://localhost:8080/"
        },
        "id": "b99925a4",
        "outputId": "5ee240d4-e08c-4fa4-fe0a-a128edf43bdd"
      },
      "outputs": [
        {
          "output_type": "stream",
          "name": "stdout",
          "text": [
            "Done\n"
          ]
        }
      ],
      "source": [
        "os.system(\"mkdir -p ./training_data/train/\")\n",
        "os.system(\"mkdir -p ./training_data/val/\")\n",
        "print(\"Done\")"
      ]
    },
    {
      "cell_type": "markdown",
      "id": "bba1f308",
      "metadata": {
        "id": "bba1f308"
      },
      "source": [
        "#### Creating the Train Dataset"
      ]
    },
    {
      "cell_type": "code",
      "execution_count": null,
      "id": "7255fdbb",
      "metadata": {
        "scrolled": true,
        "colab": {
          "base_uri": "https://localhost:8080/"
        },
        "id": "7255fdbb",
        "outputId": "03b74938-b90a-4b6e-eac1-2c66d158ecd9"
      },
      "outputs": [
        {
          "output_type": "stream",
          "name": "stdout",
          "text": [
            "0\n"
          ]
        },
        {
          "output_type": "stream",
          "name": "stderr",
          "text": [
            "WARNING:tensorflow:From <ipython-input-36-d8ec5e3f8afa>:12: TFRecordWriter.__init__ (from tensorflow.python.data.experimental.ops.writers) is deprecated and will be removed in a future version.\n",
            "Instructions for updating:\n",
            "To write TFRecords to disk, use `tf.io.TFRecordWriter`. To save and load the contents of a dataset, use `tf.data.experimental.save` and `tf.data.experimental.load`\n"
          ]
        },
        {
          "output_type": "stream",
          "name": "stdout",
          "text": [
            "CPU times: user 8.85 s, sys: 588 ms, total: 9.44 s\n",
            "Wall time: 8.35 s\n"
          ]
        }
      ],
      "source": [
        "%%time\n",
        "for i in range(ceil(train_data.shape[0]/500000)):\n",
        "    print(i)\n",
        "    low = i*500000\n",
        "    high = (i+1)*500000\n",
        "    create_tfrecords_dataset(train_data.iloc[low:high,:], i, 'train')"
      ]
    },
    {
      "cell_type": "markdown",
      "id": "42b9caa5",
      "metadata": {
        "id": "42b9caa5"
      },
      "source": [
        "#### Creating the Validation Dataset"
      ]
    },
    {
      "cell_type": "code",
      "execution_count": null,
      "id": "bc8d38f6",
      "metadata": {
        "colab": {
          "base_uri": "https://localhost:8080/"
        },
        "id": "bc8d38f6",
        "outputId": "72c2b6e3-740c-45a0-ecbf-df254ad7980d"
      },
      "outputs": [
        {
          "output_type": "stream",
          "name": "stdout",
          "text": [
            "0\n",
            "CPU times: user 2.35 s, sys: 157 ms, total: 2.51 s\n",
            "Wall time: 2.33 s\n"
          ]
        }
      ],
      "source": [
        "%%time\n",
        "for i in range(ceil(val_data.shape[0]/60000)):\n",
        "    print(i)\n",
        "    low = i*60000\n",
        "    high = (i+1)*60000\n",
        "    create_tfrecords_dataset(val_data.iloc[low:high,:], i, 'val')"
      ]
    },
    {
      "cell_type": "markdown",
      "id": "edc6ff48",
      "metadata": {
        "id": "edc6ff48"
      },
      "source": [
        "### Loading the Data"
      ]
    },
    {
      "cell_type": "code",
      "execution_count": null,
      "id": "ac0fa343",
      "metadata": {
        "id": "ac0fa343"
      },
      "outputs": [],
      "source": [
        "def _parse_function(example_proto):\n",
        "    \"\"\"\n",
        "    Parses the TFRecord file.\n",
        "    \"\"\"\n",
        "    feature_description = {\n",
        "        'features': tf.io.FixedLenFeature((128,), tf.int64),\n",
        "        'label': tf.io.FixedLenFeature((1,), tf.int64)\n",
        "    }\n",
        "\n",
        "    example = tf.io.parse_single_example(example_proto, feature_description)\n",
        "\n",
        "    features = example['features']\n",
        "    label = example['label'][0]\n",
        "\n",
        "    return features, label"
      ]
    },
    {
      "cell_type": "code",
      "execution_count": null,
      "id": "8c052593",
      "metadata": {
        "id": "8c052593"
      },
      "outputs": [],
      "source": [
        "def get_dataset(path, data_type='train'):\n",
        "    \"\"\"\n",
        "    Takes in a path to the TFRecords and returns a TF Dataset to be used for training.\n",
        "    \"\"\"\n",
        "    tfrecords = [f\"{path}{data_type}/{x}\" for x in os.listdir(f\"{path}{data_type}/\") if x.endswith('tfrecord')]\n",
        "    tfrecords.sort()\n",
        "\n",
        "\n",
        "    raw_dataset = tf.data.TFRecordDataset(tfrecords, num_parallel_reads=AUTO)\n",
        "    parsed_dataset = raw_dataset.map(_parse_function, num_parallel_calls=AUTO)\n",
        "\n",
        "    parsed_dataset = parsed_dataset.apply(tf.data.experimental.dense_to_ragged_batch(512,drop_remainder=True))\n",
        "    return parsed_dataset"
      ]
    },
    {
      "cell_type": "code",
      "execution_count": null,
      "id": "814c8600",
      "metadata": {
        "colab": {
          "base_uri": "https://localhost:8080/"
        },
        "id": "814c8600",
        "outputId": "70294895-2dd5-45ef-b77e-5312e8bccffd"
      },
      "outputs": [
        {
          "output_type": "stream",
          "name": "stderr",
          "text": [
            "WARNING:tensorflow:From <ipython-input-44-53b7e15d1e99>:12: dense_to_ragged_batch (from tensorflow.python.data.experimental.ops.batching) is deprecated and will be removed in a future version.\n",
            "Instructions for updating:\n",
            "Use `tf.data.Dataset.ragged_batch` instead.\n"
          ]
        }
      ],
      "source": [
        "train_data_path = \"./training_data/\"\n",
        "AUTO = tf.data.experimental.AUTOTUNE\n",
        "training_data = get_dataset(train_data_path, data_type='train')\n",
        "validation_data = get_dataset(train_data_path, data_type='val')"
      ]
    },
    {
      "cell_type": "markdown",
      "id": "035b0a6a",
      "metadata": {
        "id": "035b0a6a"
      },
      "source": [
        "### Load Vocab"
      ]
    },
    {
      "cell_type": "code",
      "execution_count": null,
      "id": "3a907216",
      "metadata": {
        "id": "3a907216"
      },
      "outputs": [],
      "source": [
        "# Loading the affiliation (target) vocab\n",
        "with open(\"affiliation_vocab.pkl\",\"rb\") as f:\n",
        "    affiliation_vocab = pickle.load(f)"
      ]
    },
    {
      "cell_type": "code",
      "execution_count": null,
      "id": "c5d53f4f",
      "metadata": {
        "id": "c5d53f4f"
      },
      "outputs": [],
      "source": [
        "inverse_affiliation_vocab = {i:j for j,i in affiliation_vocab.items()}"
      ]
    },
    {
      "cell_type": "markdown",
      "id": "9a5ac75e",
      "metadata": {
        "id": "9a5ac75e"
      },
      "source": [
        "### Creating Model"
      ]
    },
    {
      "cell_type": "code",
      "execution_count": null,
      "id": "950e87ee",
      "metadata": {
        "id": "950e87ee"
      },
      "outputs": [],
      "source": [
        "# Hyperparameters to tune\n",
        "emb_size = 256\n",
        "max_len = 128\n",
        "num_layers = 6\n",
        "num_heads = 8\n",
        "dense_1 = 2048\n",
        "dense_2 = 1024\n",
        "learn_rate = 0.00004"
      ]
    },
    {
      "cell_type": "code",
      "execution_count": null,
      "id": "ecbe2c8d",
      "metadata": {
        "id": "ecbe2c8d"
      },
      "outputs": [],
      "source": [
        "def scheduler(epoch, curr_lr):\n",
        "    \"\"\"\n",
        "    Setting up a exponentially decaying learning rate.\n",
        "    \"\"\"\n",
        "    rampup_epochs = 2\n",
        "    exp_decay = 0.17\n",
        "    def lr(epoch, beg_lr, rampup_epochs, exp_decay):\n",
        "        if epoch < rampup_epochs:\n",
        "            return beg_lr\n",
        "        else:\n",
        "            return beg_lr * math.exp(-exp_decay * epoch)\n",
        "    return lr(epoch, start_lr, rampup_epochs, exp_decay)"
      ]
    },
    {
      "cell_type": "code",
      "execution_count": null,
      "id": "191ab1ec",
      "metadata": {
        "scrolled": true,
        "id": "191ab1ec"
      },
      "outputs": [],
      "source": [
        "# Allow for use of multiple GPUs\n",
        "mirrored_strategy = tf.distribute.MirroredStrategy()\n",
        "\n",
        "with mirrored_strategy.scope():\n",
        "    # Model Inputs\n",
        "    tokenized_aff_string_ids = tf.keras.layers.Input((128,), dtype=tf.int64, name='tokenized_aff_string_input')\n",
        "\n",
        "    # Embedding Layers\n",
        "    tokenized_aff_string_emb_layer = tf.keras.layers.Embedding(input_dim=3816,\n",
        "                                                               output_dim=int(emb_size),\n",
        "                                                               mask_zero=True,\n",
        "                                                               trainable=True,\n",
        "                                                               name=\"tokenized_aff_string_embedding\")\n",
        "\n",
        "    tokenized_aff_string_embs = tokenized_aff_string_emb_layer(tokenized_aff_string_ids)\n",
        "\n",
        "    # First dense layer\n",
        "    dense_output = tf.keras.layers.Dense(int(dense_1), activation='relu',\n",
        "                                             kernel_regularizer='L2', name=\"dense_1\")(tokenized_aff_string_embs)\n",
        "    dense_output = tf.keras.layers.Dropout(0.20, name=\"dropout_1\")(dense_output)\n",
        "    dense_output = tf.keras.layers.LayerNormalization(epsilon=1e-6, name=\"layer_norm_1\")(dense_output)\n",
        "    pooled_output = tf.keras.layers.GlobalAveragePooling1D()(dense_output)\n",
        "\n",
        "    # Second dense layer\n",
        "    dense_output = tf.keras.layers.Dense(int(dense_2), activation='relu',\n",
        "                                             kernel_regularizer='L2', name=\"dense_2\")(pooled_output)\n",
        "    dense_output = tf.keras.layers.Dropout(0.20, name=\"dropout_2\")(dense_output)\n",
        "    dense_output = tf.keras.layers.LayerNormalization(epsilon=1e-6, name=\"layer_norm_2\")(dense_output)\n",
        "\n",
        "    # Last dense layer\n",
        "    final_output = tf.keras.layers.Dense(len(affiliation_vocab), activation='softmax', name='cls')(dense_output)\n",
        "\n",
        "    model = tf.keras.Model(inputs=tokenized_aff_string_ids, outputs=final_output)\n",
        "\n",
        "    model.compile(optimizer=tf.keras.optimizers.Adam(learning_rate=learn_rate, beta_1=0.9,\n",
        "                                                     beta_2=0.99),\n",
        "                  loss=tf.keras.losses.SparseCategoricalCrossentropy(),\n",
        "                  metrics=[tf.keras.metrics.SparseCategoricalAccuracy()])\n",
        "\n",
        "    curr_date = datetime.now().strftime(\"%Y%m%d\")\n",
        "\n",
        "    filepath_1 = f\"./models/{curr_date}_{dense_1}d1_{dense_2}d2/\" \\\n",
        "\n",
        "\n",
        "    filepath = filepath_1 + \"model_epoch{epoch:02d}ckpt.keras\"\n",
        "\n",
        "    # Adding in checkpointing\n",
        "    model_checkpoint = tf.keras.callbacks.ModelCheckpoint(filepath, monitor='val_loss',\n",
        "                                                          verbose=0, save_best_only=False,\n",
        "                                                          save_weights_only=False, mode='auto',\n",
        "                                                          save_freq='epoch')\n",
        "\n",
        "    # Adding in early stopping\n",
        "    early_stopping = tf.keras.callbacks.EarlyStopping(monitor='val_loss', min_delta=0.001, patience=4)\n",
        "\n",
        "    start_lr = float(learn_rate)\n",
        "\n",
        "    # Adding in a learning rate schedule to decrease learning rate in later epochs\n",
        "    lr_schedule = tf.keras.callbacks.LearningRateScheduler(scheduler, verbose=1)\n",
        "\n",
        "    callbacks = [model_checkpoint, early_stopping, lr_schedule]\n"
      ]
    },
    {
      "cell_type": "code",
      "execution_count": null,
      "id": "ea035a8c",
      "metadata": {
        "colab": {
          "base_uri": "https://localhost:8080/",
          "height": 569
        },
        "id": "ea035a8c",
        "outputId": "39cbb6c9-85e0-4d65-ac55-a854cff5351b"
      },
      "outputs": [
        {
          "output_type": "display_data",
          "data": {
            "text/plain": [
              "\u001b[1mModel: \"functional\"\u001b[0m\n"
            ],
            "text/html": [
              "<pre style=\"white-space:pre;overflow-x:auto;line-height:normal;font-family:Menlo,'DejaVu Sans Mono',consolas,'Courier New',monospace\"><span style=\"font-weight: bold\">Model: \"functional\"</span>\n",
              "</pre>\n"
            ]
          },
          "metadata": {}
        },
        {
          "output_type": "display_data",
          "data": {
            "text/plain": [
              "┏━━━━━━━━━━━━━━━━━━━━━━━━━━━┳━━━━━━━━━━━━━━━━━━━━━━━━┳━━━━━━━━━━━━━━━━┳━━━━━━━━━━━━━━━━━━━━━━━━┓\n",
              "┃\u001b[1m \u001b[0m\u001b[1mLayer (type)             \u001b[0m\u001b[1m \u001b[0m┃\u001b[1m \u001b[0m\u001b[1mOutput Shape          \u001b[0m\u001b[1m \u001b[0m┃\u001b[1m \u001b[0m\u001b[1m       Param #\u001b[0m\u001b[1m \u001b[0m┃\u001b[1m \u001b[0m\u001b[1mConnected to          \u001b[0m\u001b[1m \u001b[0m┃\n",
              "┡━━━━━━━━━━━━━━━━━━━━━━━━━━━╇━━━━━━━━━━━━━━━━━━━━━━━━╇━━━━━━━━━━━━━━━━╇━━━━━━━━━━━━━━━━━━━━━━━━┩\n",
              "│ tokenized_aff_string_inp… │ (\u001b[38;5;45mNone\u001b[0m, \u001b[38;5;34m128\u001b[0m)            │              \u001b[38;5;34m0\u001b[0m │ -                      │\n",
              "│ (\u001b[38;5;33mInputLayer\u001b[0m)              │                        │                │                        │\n",
              "├───────────────────────────┼────────────────────────┼────────────────┼────────────────────────┤\n",
              "│ tokenized_aff_string_emb… │ (\u001b[38;5;45mNone\u001b[0m, \u001b[38;5;34m128\u001b[0m, \u001b[38;5;34m256\u001b[0m)       │        \u001b[38;5;34m976,896\u001b[0m │ tokenized_aff_string_… │\n",
              "│ (\u001b[38;5;33mEmbedding\u001b[0m)               │                        │                │                        │\n",
              "├───────────────────────────┼────────────────────────┼────────────────┼────────────────────────┤\n",
              "│ dense_1 (\u001b[38;5;33mDense\u001b[0m)           │ (\u001b[38;5;45mNone\u001b[0m, \u001b[38;5;34m128\u001b[0m, \u001b[38;5;34m2048\u001b[0m)      │        \u001b[38;5;34m526,336\u001b[0m │ tokenized_aff_string_… │\n",
              "├───────────────────────────┼────────────────────────┼────────────────┼────────────────────────┤\n",
              "│ dropout_1 (\u001b[38;5;33mDropout\u001b[0m)       │ (\u001b[38;5;45mNone\u001b[0m, \u001b[38;5;34m128\u001b[0m, \u001b[38;5;34m2048\u001b[0m)      │              \u001b[38;5;34m0\u001b[0m │ dense_1[\u001b[38;5;34m0\u001b[0m][\u001b[38;5;34m0\u001b[0m]          │\n",
              "├───────────────────────────┼────────────────────────┼────────────────┼────────────────────────┤\n",
              "│ layer_norm_1              │ (\u001b[38;5;45mNone\u001b[0m, \u001b[38;5;34m128\u001b[0m, \u001b[38;5;34m2048\u001b[0m)      │          \u001b[38;5;34m4,096\u001b[0m │ dropout_1[\u001b[38;5;34m0\u001b[0m][\u001b[38;5;34m0\u001b[0m]        │\n",
              "│ (\u001b[38;5;33mLayerNormalization\u001b[0m)      │                        │                │                        │\n",
              "├───────────────────────────┼────────────────────────┼────────────────┼────────────────────────┤\n",
              "│ not_equal (\u001b[38;5;33mNotEqual\u001b[0m)      │ (\u001b[38;5;45mNone\u001b[0m, \u001b[38;5;34m128\u001b[0m)            │              \u001b[38;5;34m0\u001b[0m │ tokenized_aff_string_… │\n",
              "├───────────────────────────┼────────────────────────┼────────────────┼────────────────────────┤\n",
              "│ global_average_pooling1d  │ (\u001b[38;5;45mNone\u001b[0m, \u001b[38;5;34m2048\u001b[0m)           │              \u001b[38;5;34m0\u001b[0m │ layer_norm_1[\u001b[38;5;34m0\u001b[0m][\u001b[38;5;34m0\u001b[0m],    │\n",
              "│ (\u001b[38;5;33mGlobalAveragePooling1D\u001b[0m)  │                        │                │ not_equal[\u001b[38;5;34m0\u001b[0m][\u001b[38;5;34m0\u001b[0m]        │\n",
              "├───────────────────────────┼────────────────────────┼────────────────┼────────────────────────┤\n",
              "│ dense_2 (\u001b[38;5;33mDense\u001b[0m)           │ (\u001b[38;5;45mNone\u001b[0m, \u001b[38;5;34m1024\u001b[0m)           │      \u001b[38;5;34m2,098,176\u001b[0m │ global_average_poolin… │\n",
              "├───────────────────────────┼────────────────────────┼────────────────┼────────────────────────┤\n",
              "│ dropout_2 (\u001b[38;5;33mDropout\u001b[0m)       │ (\u001b[38;5;45mNone\u001b[0m, \u001b[38;5;34m1024\u001b[0m)           │              \u001b[38;5;34m0\u001b[0m │ dense_2[\u001b[38;5;34m0\u001b[0m][\u001b[38;5;34m0\u001b[0m]          │\n",
              "├───────────────────────────┼────────────────────────┼────────────────┼────────────────────────┤\n",
              "│ layer_norm_2              │ (\u001b[38;5;45mNone\u001b[0m, \u001b[38;5;34m1024\u001b[0m)           │          \u001b[38;5;34m2,048\u001b[0m │ dropout_2[\u001b[38;5;34m0\u001b[0m][\u001b[38;5;34m0\u001b[0m]        │\n",
              "│ (\u001b[38;5;33mLayerNormalization\u001b[0m)      │                        │                │                        │\n",
              "├───────────────────────────┼────────────────────────┼────────────────┼────────────────────────┤\n",
              "│ cls (\u001b[38;5;33mDense\u001b[0m)               │ (\u001b[38;5;45mNone\u001b[0m, \u001b[38;5;34m328\u001b[0m)            │        \u001b[38;5;34m336,200\u001b[0m │ layer_norm_2[\u001b[38;5;34m0\u001b[0m][\u001b[38;5;34m0\u001b[0m]     │\n",
              "└───────────────────────────┴────────────────────────┴────────────────┴────────────────────────┘\n"
            ],
            "text/html": [
              "<pre style=\"white-space:pre;overflow-x:auto;line-height:normal;font-family:Menlo,'DejaVu Sans Mono',consolas,'Courier New',monospace\">┏━━━━━━━━━━━━━━━━━━━━━━━━━━━┳━━━━━━━━━━━━━━━━━━━━━━━━┳━━━━━━━━━━━━━━━━┳━━━━━━━━━━━━━━━━━━━━━━━━┓\n",
              "┃<span style=\"font-weight: bold\"> Layer (type)              </span>┃<span style=\"font-weight: bold\"> Output Shape           </span>┃<span style=\"font-weight: bold\">        Param # </span>┃<span style=\"font-weight: bold\"> Connected to           </span>┃\n",
              "┡━━━━━━━━━━━━━━━━━━━━━━━━━━━╇━━━━━━━━━━━━━━━━━━━━━━━━╇━━━━━━━━━━━━━━━━╇━━━━━━━━━━━━━━━━━━━━━━━━┩\n",
              "│ tokenized_aff_string_inp… │ (<span style=\"color: #00d7ff; text-decoration-color: #00d7ff\">None</span>, <span style=\"color: #00af00; text-decoration-color: #00af00\">128</span>)            │              <span style=\"color: #00af00; text-decoration-color: #00af00\">0</span> │ -                      │\n",
              "│ (<span style=\"color: #0087ff; text-decoration-color: #0087ff\">InputLayer</span>)              │                        │                │                        │\n",
              "├───────────────────────────┼────────────────────────┼────────────────┼────────────────────────┤\n",
              "│ tokenized_aff_string_emb… │ (<span style=\"color: #00d7ff; text-decoration-color: #00d7ff\">None</span>, <span style=\"color: #00af00; text-decoration-color: #00af00\">128</span>, <span style=\"color: #00af00; text-decoration-color: #00af00\">256</span>)       │        <span style=\"color: #00af00; text-decoration-color: #00af00\">976,896</span> │ tokenized_aff_string_… │\n",
              "│ (<span style=\"color: #0087ff; text-decoration-color: #0087ff\">Embedding</span>)               │                        │                │                        │\n",
              "├───────────────────────────┼────────────────────────┼────────────────┼────────────────────────┤\n",
              "│ dense_1 (<span style=\"color: #0087ff; text-decoration-color: #0087ff\">Dense</span>)           │ (<span style=\"color: #00d7ff; text-decoration-color: #00d7ff\">None</span>, <span style=\"color: #00af00; text-decoration-color: #00af00\">128</span>, <span style=\"color: #00af00; text-decoration-color: #00af00\">2048</span>)      │        <span style=\"color: #00af00; text-decoration-color: #00af00\">526,336</span> │ tokenized_aff_string_… │\n",
              "├───────────────────────────┼────────────────────────┼────────────────┼────────────────────────┤\n",
              "│ dropout_1 (<span style=\"color: #0087ff; text-decoration-color: #0087ff\">Dropout</span>)       │ (<span style=\"color: #00d7ff; text-decoration-color: #00d7ff\">None</span>, <span style=\"color: #00af00; text-decoration-color: #00af00\">128</span>, <span style=\"color: #00af00; text-decoration-color: #00af00\">2048</span>)      │              <span style=\"color: #00af00; text-decoration-color: #00af00\">0</span> │ dense_1[<span style=\"color: #00af00; text-decoration-color: #00af00\">0</span>][<span style=\"color: #00af00; text-decoration-color: #00af00\">0</span>]          │\n",
              "├───────────────────────────┼────────────────────────┼────────────────┼────────────────────────┤\n",
              "│ layer_norm_1              │ (<span style=\"color: #00d7ff; text-decoration-color: #00d7ff\">None</span>, <span style=\"color: #00af00; text-decoration-color: #00af00\">128</span>, <span style=\"color: #00af00; text-decoration-color: #00af00\">2048</span>)      │          <span style=\"color: #00af00; text-decoration-color: #00af00\">4,096</span> │ dropout_1[<span style=\"color: #00af00; text-decoration-color: #00af00\">0</span>][<span style=\"color: #00af00; text-decoration-color: #00af00\">0</span>]        │\n",
              "│ (<span style=\"color: #0087ff; text-decoration-color: #0087ff\">LayerNormalization</span>)      │                        │                │                        │\n",
              "├───────────────────────────┼────────────────────────┼────────────────┼────────────────────────┤\n",
              "│ not_equal (<span style=\"color: #0087ff; text-decoration-color: #0087ff\">NotEqual</span>)      │ (<span style=\"color: #00d7ff; text-decoration-color: #00d7ff\">None</span>, <span style=\"color: #00af00; text-decoration-color: #00af00\">128</span>)            │              <span style=\"color: #00af00; text-decoration-color: #00af00\">0</span> │ tokenized_aff_string_… │\n",
              "├───────────────────────────┼────────────────────────┼────────────────┼────────────────────────┤\n",
              "│ global_average_pooling1d  │ (<span style=\"color: #00d7ff; text-decoration-color: #00d7ff\">None</span>, <span style=\"color: #00af00; text-decoration-color: #00af00\">2048</span>)           │              <span style=\"color: #00af00; text-decoration-color: #00af00\">0</span> │ layer_norm_1[<span style=\"color: #00af00; text-decoration-color: #00af00\">0</span>][<span style=\"color: #00af00; text-decoration-color: #00af00\">0</span>],    │\n",
              "│ (<span style=\"color: #0087ff; text-decoration-color: #0087ff\">GlobalAveragePooling1D</span>)  │                        │                │ not_equal[<span style=\"color: #00af00; text-decoration-color: #00af00\">0</span>][<span style=\"color: #00af00; text-decoration-color: #00af00\">0</span>]        │\n",
              "├───────────────────────────┼────────────────────────┼────────────────┼────────────────────────┤\n",
              "│ dense_2 (<span style=\"color: #0087ff; text-decoration-color: #0087ff\">Dense</span>)           │ (<span style=\"color: #00d7ff; text-decoration-color: #00d7ff\">None</span>, <span style=\"color: #00af00; text-decoration-color: #00af00\">1024</span>)           │      <span style=\"color: #00af00; text-decoration-color: #00af00\">2,098,176</span> │ global_average_poolin… │\n",
              "├───────────────────────────┼────────────────────────┼────────────────┼────────────────────────┤\n",
              "│ dropout_2 (<span style=\"color: #0087ff; text-decoration-color: #0087ff\">Dropout</span>)       │ (<span style=\"color: #00d7ff; text-decoration-color: #00d7ff\">None</span>, <span style=\"color: #00af00; text-decoration-color: #00af00\">1024</span>)           │              <span style=\"color: #00af00; text-decoration-color: #00af00\">0</span> │ dense_2[<span style=\"color: #00af00; text-decoration-color: #00af00\">0</span>][<span style=\"color: #00af00; text-decoration-color: #00af00\">0</span>]          │\n",
              "├───────────────────────────┼────────────────────────┼────────────────┼────────────────────────┤\n",
              "│ layer_norm_2              │ (<span style=\"color: #00d7ff; text-decoration-color: #00d7ff\">None</span>, <span style=\"color: #00af00; text-decoration-color: #00af00\">1024</span>)           │          <span style=\"color: #00af00; text-decoration-color: #00af00\">2,048</span> │ dropout_2[<span style=\"color: #00af00; text-decoration-color: #00af00\">0</span>][<span style=\"color: #00af00; text-decoration-color: #00af00\">0</span>]        │\n",
              "│ (<span style=\"color: #0087ff; text-decoration-color: #0087ff\">LayerNormalization</span>)      │                        │                │                        │\n",
              "├───────────────────────────┼────────────────────────┼────────────────┼────────────────────────┤\n",
              "│ cls (<span style=\"color: #0087ff; text-decoration-color: #0087ff\">Dense</span>)               │ (<span style=\"color: #00d7ff; text-decoration-color: #00d7ff\">None</span>, <span style=\"color: #00af00; text-decoration-color: #00af00\">328</span>)            │        <span style=\"color: #00af00; text-decoration-color: #00af00\">336,200</span> │ layer_norm_2[<span style=\"color: #00af00; text-decoration-color: #00af00\">0</span>][<span style=\"color: #00af00; text-decoration-color: #00af00\">0</span>]     │\n",
              "└───────────────────────────┴────────────────────────┴────────────────┴────────────────────────┘\n",
              "</pre>\n"
            ]
          },
          "metadata": {}
        },
        {
          "output_type": "display_data",
          "data": {
            "text/plain": [
              "\u001b[1m Total params: \u001b[0m\u001b[38;5;34m3,943,752\u001b[0m (15.04 MB)\n"
            ],
            "text/html": [
              "<pre style=\"white-space:pre;overflow-x:auto;line-height:normal;font-family:Menlo,'DejaVu Sans Mono',consolas,'Courier New',monospace\"><span style=\"font-weight: bold\"> Total params: </span><span style=\"color: #00af00; text-decoration-color: #00af00\">3,943,752</span> (15.04 MB)\n",
              "</pre>\n"
            ]
          },
          "metadata": {}
        },
        {
          "output_type": "display_data",
          "data": {
            "text/plain": [
              "\u001b[1m Trainable params: \u001b[0m\u001b[38;5;34m3,943,752\u001b[0m (15.04 MB)\n"
            ],
            "text/html": [
              "<pre style=\"white-space:pre;overflow-x:auto;line-height:normal;font-family:Menlo,'DejaVu Sans Mono',consolas,'Courier New',monospace\"><span style=\"font-weight: bold\"> Trainable params: </span><span style=\"color: #00af00; text-decoration-color: #00af00\">3,943,752</span> (15.04 MB)\n",
              "</pre>\n"
            ]
          },
          "metadata": {}
        },
        {
          "output_type": "display_data",
          "data": {
            "text/plain": [
              "\u001b[1m Non-trainable params: \u001b[0m\u001b[38;5;34m0\u001b[0m (0.00 B)\n"
            ],
            "text/html": [
              "<pre style=\"white-space:pre;overflow-x:auto;line-height:normal;font-family:Menlo,'DejaVu Sans Mono',consolas,'Courier New',monospace\"><span style=\"font-weight: bold\"> Non-trainable params: </span><span style=\"color: #00af00; text-decoration-color: #00af00\">0</span> (0.00 B)\n",
              "</pre>\n"
            ]
          },
          "metadata": {}
        }
      ],
      "source": [
        "model.summary()"
      ]
    },
    {
      "cell_type": "markdown",
      "id": "ada74e47",
      "metadata": {
        "id": "ada74e47"
      },
      "source": [
        "### Training the Model"
      ]
    },
    {
      "cell_type": "code",
      "execution_count": null,
      "id": "b613d5da",
      "metadata": {
        "scrolled": true,
        "colab": {
          "base_uri": "https://localhost:8080/"
        },
        "id": "b613d5da",
        "outputId": "a9e00762-2076-44b8-d04d-8bfaaf8c5a2f"
      },
      "outputs": [
        {
          "metadata": {
            "tags": null
          },
          "name": "stdout",
          "output_type": "stream",
          "text": [
            "\n",
            "Epoch 1: LearningRateScheduler setting learning rate to 4e-05.\n",
            "Epoch 1/20\n",
            "     32/Unknown \u001b[1m512s\u001b[0m 16s/step - loss: 24.1237 - sparse_categorical_accuracy: 0.0225"
          ]
        },
        {
          "metadata": {
            "tags": null
          },
          "name": "stderr",
          "output_type": "stream",
          "text": [
            "/usr/lib/python3.10/contextlib.py:153: UserWarning: Your input ran out of data; interrupting training. Make sure that your dataset or generator can generate at least `steps_per_epoch * epochs` batches. You may need to use the `.repeat()` function when building your dataset.\n",
            "  self.gen.throw(typ, value, traceback)\n"
          ]
        },
        {
          "output_type": "stream",
          "name": "stdout",
          "text": [
            "\u001b[1m32/32\u001b[0m \u001b[32m━━━━━━━━━━━━━━━━━━━━\u001b[0m\u001b[37m\u001b[0m \u001b[1m546s\u001b[0m 17s/step - loss: 24.0834 - sparse_categorical_accuracy: 0.0236 - val_loss: 19.0692 - val_sparse_categorical_accuracy: 0.3631 - learning_rate: 4.0000e-05\n",
            "\n",
            "Epoch 2: LearningRateScheduler setting learning rate to 4e-05.\n",
            "Epoch 2/20\n",
            "\u001b[1m32/32\u001b[0m \u001b[32m━━━━━━━━━━━━━━━━━━━━\u001b[0m\u001b[37m\u001b[0m \u001b[1m550s\u001b[0m 17s/step - loss: 21.6274 - sparse_categorical_accuracy: 0.3018 - val_loss: 17.3092 - val_sparse_categorical_accuracy: 0.5890 - learning_rate: 4.0000e-05\n",
            "\n",
            "Epoch 3: LearningRateScheduler setting learning rate to 2.8470812910504387e-05.\n",
            "Epoch 3/20\n",
            "\u001b[1m32/32\u001b[0m \u001b[32m━━━━━━━━━━━━━━━━━━━━\u001b[0m\u001b[37m\u001b[0m \u001b[1m562s\u001b[0m 18s/step - loss: 19.9859 - sparse_categorical_accuracy: 0.5719 - val_loss: 16.5280 - val_sparse_categorical_accuracy: 0.6790 - learning_rate: 2.8471e-05\n",
            "\n",
            "Epoch 4: LearningRateScheduler setting learning rate to 2.4019823152490636e-05.\n",
            "Epoch 4/20\n",
            "\u001b[1m32/32\u001b[0m \u001b[32m━━━━━━━━━━━━━━━━━━━━\u001b[0m\u001b[37m\u001b[0m \u001b[1m550s\u001b[0m 17s/step - loss: 19.1196 - sparse_categorical_accuracy: 0.6747 - val_loss: 15.9866 - val_sparse_categorical_accuracy: 0.7283 - learning_rate: 2.4020e-05\n",
            "\n",
            "Epoch 5: LearningRateScheduler setting learning rate to 2.0264679694623583e-05.\n",
            "Epoch 5/20\n",
            "\u001b[1m32/32\u001b[0m \u001b[32m━━━━━━━━━━━━━━━━━━━━\u001b[0m\u001b[37m\u001b[0m \u001b[1m573s\u001b[0m 18s/step - loss: 18.4852 - sparse_categorical_accuracy: 0.7470 - val_loss: 15.5864 - val_sparse_categorical_accuracy: 0.7606 - learning_rate: 2.0265e-05\n",
            "\n",
            "Epoch 6: LearningRateScheduler setting learning rate to 1.7096597277949067e-05.\n",
            "Epoch 6/20\n",
            "\u001b[1m32/32\u001b[0m \u001b[32m━━━━━━━━━━━━━━━━━━━━\u001b[0m\u001b[37m\u001b[0m \u001b[1m550s\u001b[0m 17s/step - loss: 18.0040 - sparse_categorical_accuracy: 0.7945 - val_loss: 15.2756 - val_sparse_categorical_accuracy: 0.7817 - learning_rate: 1.7097e-05\n",
            "\n",
            "Epoch 7: LearningRateScheduler setting learning rate to 1.4423797606923133e-05.\n",
            "Epoch 7/20\n",
            "\u001b[1m32/32\u001b[0m \u001b[32m━━━━━━━━━━━━━━━━━━━━\u001b[0m\u001b[37m\u001b[0m \u001b[1m554s\u001b[0m 17s/step - loss: 17.6388 - sparse_categorical_accuracy: 0.8227 - val_loss: 15.0284 - val_sparse_categorical_accuracy: 0.7949 - learning_rate: 1.4424e-05\n",
            "\n",
            "Epoch 8: LearningRateScheduler setting learning rate to 1.2168850562668162e-05.\n",
            "Epoch 8/20\n",
            "\u001b[1m32/32\u001b[0m \u001b[32m━━━━━━━━━━━━━━━━━━━━\u001b[0m\u001b[37m\u001b[0m \u001b[1m564s\u001b[0m 18s/step - loss: 17.3298 - sparse_categorical_accuracy: 0.8442 - val_loss: 14.8265 - val_sparse_categorical_accuracy: 0.8040 - learning_rate: 1.2169e-05\n",
            "\n",
            "Epoch 9: LearningRateScheduler setting learning rate to 1.0266431078142235e-05.\n",
            "Epoch 9/20\n",
            "\u001b[1m32/32\u001b[0m \u001b[32m━━━━━━━━━━━━━━━━━━━━\u001b[0m\u001b[37m\u001b[0m \u001b[1m537s\u001b[0m 17s/step - loss: 17.0813 - sparse_categorical_accuracy: 0.8603 - val_loss: 14.6597 - val_sparse_categorical_accuracy: 0.8110 - learning_rate: 1.0266e-05\n",
            "\n",
            "Epoch 10: LearningRateScheduler setting learning rate to 8.661426692640284e-06.\n",
            "Epoch 10/20\n",
            "\u001b[1m32/32\u001b[0m \u001b[32m━━━━━━━━━━━━━━━━━━━━\u001b[0m\u001b[37m\u001b[0m \u001b[1m632s\u001b[0m 19s/step - loss: 16.8739 - sparse_categorical_accuracy: 0.8816 - val_loss: 14.5206 - val_sparse_categorical_accuracy: 0.8179 - learning_rate: 8.6614e-06\n",
            "\n",
            "Epoch 11: LearningRateScheduler setting learning rate to 7.307340962109385e-06.\n",
            "Epoch 11/20\n",
            "\u001b[1m32/32\u001b[0m \u001b[32m━━━━━━━━━━━━━━━━━━━━\u001b[0m\u001b[37m\u001b[0m \u001b[1m561s\u001b[0m 17s/step - loss: 16.7247 - sparse_categorical_accuracy: 0.8828 - val_loss: 14.4046 - val_sparse_categorical_accuracy: 0.8212 - learning_rate: 7.3073e-06\n",
            "\n",
            "Epoch 12: LearningRateScheduler setting learning rate to 6.164946472605257e-06.\n",
            "Epoch 12/20\n",
            "\u001b[1m32/32\u001b[0m \u001b[32m━━━━━━━━━━━━━━━━━━━━\u001b[0m\u001b[37m\u001b[0m \u001b[1m559s\u001b[0m 18s/step - loss: 16.5822 - sparse_categorical_accuracy: 0.8864 - val_loss: 14.3069 - val_sparse_categorical_accuracy: 0.8251 - learning_rate: 6.1649e-06\n",
            "\n",
            "Epoch 13: LearningRateScheduler setting learning rate to 5.201148435137037e-06.\n",
            "Epoch 13/20\n",
            "\u001b[1m32/32\u001b[0m \u001b[32m━━━━━━━━━━━━━━━━━━━━\u001b[0m\u001b[37m\u001b[0m \u001b[1m545s\u001b[0m 17s/step - loss: 16.4599 - sparse_categorical_accuracy: 0.8989 - val_loss: 14.2242 - val_sparse_categorical_accuracy: 0.8288 - learning_rate: 5.2011e-06\n",
            "\n",
            "Epoch 14: LearningRateScheduler setting learning rate to 4.3880259406204565e-06.\n",
            "Epoch 14/20\n",
            "\u001b[1m32/32\u001b[0m \u001b[32m━━━━━━━━━━━━━━━━━━━━\u001b[0m\u001b[37m\u001b[0m \u001b[1m563s\u001b[0m 18s/step - loss: 16.3584 - sparse_categorical_accuracy: 0.9017 - val_loss: 14.1547 - val_sparse_categorical_accuracy: 0.8318 - learning_rate: 4.3880e-06\n",
            "\n",
            "Epoch 15: LearningRateScheduler setting learning rate to 3.70202310041373e-06.\n",
            "Epoch 15/20\n",
            "\u001b[1m32/32\u001b[0m \u001b[32m━━━━━━━━━━━━━━━━━━━━\u001b[0m\u001b[37m\u001b[0m \u001b[1m662s\u001b[0m 19s/step - loss: 16.2719 - sparse_categorical_accuracy: 0.9059 - val_loss: 14.0959 - val_sparse_categorical_accuracy: 0.8342 - learning_rate: 3.7020e-06\n",
            "\n",
            "Epoch 16: LearningRateScheduler setting learning rate to 3.1232666400461255e-06.\n",
            "Epoch 16/20\n",
            "\u001b[1m32/32\u001b[0m \u001b[32m━━━━━━━━━━━━━━━━━━━━\u001b[0m\u001b[37m\u001b[0m \u001b[1m722s\u001b[0m 22s/step - loss: 16.1950 - sparse_categorical_accuracy: 0.9097 - val_loss: 14.0470 - val_sparse_categorical_accuracy: 0.8349 - learning_rate: 3.1233e-06\n",
            "\n",
            "Epoch 17: LearningRateScheduler setting learning rate to 2.634990177056118e-06.\n",
            "Epoch 17/20\n",
            "\u001b[1m32/32\u001b[0m \u001b[32m━━━━━━━━━━━━━━━━━━━━\u001b[0m\u001b[37m\u001b[0m \u001b[1m811s\u001b[0m 24s/step - loss: 16.1374 - sparse_categorical_accuracy: 0.9119 - val_loss: 14.0051 - val_sparse_categorical_accuracy: 0.8359 - learning_rate: 2.6350e-06\n",
            "\n",
            "Epoch 18: LearningRateScheduler setting learning rate to 2.2230485044593226e-06.\n",
            "Epoch 18/20\n",
            "\u001b[1m32/32\u001b[0m \u001b[32m━━━━━━━━━━━━━━━━━━━━\u001b[0m\u001b[37m\u001b[0m \u001b[1m685s\u001b[0m 20s/step - loss: 16.0888 - sparse_categorical_accuracy: 0.9144 - val_loss: 13.9693 - val_sparse_categorical_accuracy: 0.8379 - learning_rate: 2.2230e-06\n",
            "\n",
            "Epoch 19: LearningRateScheduler setting learning rate to 1.8755078087995396e-06.\n",
            "Epoch 19/20\n",
            "\u001b[1m32/32\u001b[0m \u001b[32m━━━━━━━━━━━━━━━━━━━━\u001b[0m\u001b[37m\u001b[0m \u001b[1m616s\u001b[0m 19s/step - loss: 16.0428 - sparse_categorical_accuracy: 0.9140 - val_loss: 13.9390 - val_sparse_categorical_accuracy: 0.8394 - learning_rate: 1.8755e-06\n",
            "\n",
            "Epoch 20: LearningRateScheduler setting learning rate to 1.5822999515359485e-06.\n",
            "Epoch 20/20\n",
            "\u001b[1m32/32\u001b[0m \u001b[32m━━━━━━━━━━━━━━━━━━━━\u001b[0m\u001b[37m\u001b[0m \u001b[1m579s\u001b[0m 18s/step - loss: 16.0072 - sparse_categorical_accuracy: 0.9216 - val_loss: 13.9136 - val_sparse_categorical_accuracy: 0.8405 - learning_rate: 1.5823e-06\n"
          ]
        }
      ],
      "source": [
        "history = model.fit(training_data, epochs=20, validation_data=validation_data, verbose=1, callbacks=callbacks)"
      ]
    },
    {
      "cell_type": "code",
      "execution_count": null,
      "id": "172491df",
      "metadata": {
        "id": "172491df"
      },
      "outputs": [],
      "source": [
        "new_var = json.dump(str(history.history), open(f\"{filepath_1}_25EPOCHS_HISTORY.json\", 'w+'))\n",
        "new_var"
      ]
    },
    {
      "cell_type": "code",
      "source": [
        "# Valores finales después de la última época (época 20)\n",
        "final_loss = history.history['loss'][-1]\n",
        "final_val_loss = history.history['val_loss'][-1]\n",
        "final_accuracy = history.history['sparse_categorical_accuracy'][-1]\n",
        "final_val_accuracy = history.history['val_sparse_categorical_accuracy'][-1]\n",
        "\n",
        "print(f\"Pérdida final en entrenamiento: {final_loss}\")\n",
        "print(f\"Pérdida final en validación: {final_val_loss}\")\n",
        "print(f\"Exactitud final en entrenamiento: {final_accuracy}\")\n",
        "print(f\"Exactitud final en validación: {final_val_accuracy}\")\n"
      ],
      "metadata": {
        "colab": {
          "base_uri": "https://localhost:8080/"
        },
        "id": "XI7c0zM_wpxp",
        "outputId": "93b50dd7-0e8b-42d9-c3f8-de7e994fc59a"
      },
      "id": "XI7c0zM_wpxp",
      "execution_count": null,
      "outputs": [
        {
          "output_type": "stream",
          "name": "stdout",
          "text": [
            "Pérdida final en entrenamiento: 15.53513240814209\n",
            "Pérdida final en validación: 13.91355037689209\n",
            "Exactitud final en entrenamiento: 0.8931699991226196\n",
            "Exactitud final en validación: 0.8404948115348816\n"
          ]
        }
      ]
    },
    {
      "cell_type": "code",
      "source": [
        "import json\n",
        "\n",
        "# Guardar el historial del entrenamiento en un archivo JSON\n",
        "with open(f\"{filepath_1}_25EPOCHS_HISTORY.json\", 'w+') as file:\n",
        "    json.dump(history.history, file)\n"
      ],
      "metadata": {
        "id": "4YE1cLaSwCtc"
      },
      "id": "4YE1cLaSwCtc",
      "execution_count": null,
      "outputs": []
    },
    {
      "cell_type": "code",
      "execution_count": null,
      "id": "92b07c45",
      "metadata": {
        "id": "92b07c45"
      },
      "outputs": [],
      "source": [
        "import json\n",
        "\n",
        "# Cargar el historial desde el archivo JSON\n",
        "with open(f\"{filepath_1}_25EPOCHS_HISTORY.json\", 'r') as file:\n",
        "    loaded_history = json.load(file)\n"
      ]
    },
    {
      "cell_type": "code",
      "source": [
        "import matplotlib.pyplot as plt\n",
        "\n",
        "# Extraer los valores de las métricas del historial cargado\n",
        "loss_values = loaded_history['loss']\n",
        "val_loss_values = loaded_history['val_loss']\n",
        "accuracy_values = loaded_history['sparse_categorical_accuracy']\n",
        "val_accuracy_values = loaded_history['val_sparse_categorical_accuracy']\n",
        "\n",
        "# Crear el rango de épocas\n",
        "epochs = range(1, len(loss_values) + 1)\n",
        "\n",
        "# Gráfico de la Pérdida (Loss)\n",
        "plt.figure(figsize=(12, 6))\n",
        "\n",
        "plt.subplot(1, 2, 1)\n",
        "plt.plot(epochs, loss_values, 'bo', label='Pérdida en Entrenamiento')\n",
        "plt.plot(epochs, val_loss_values, 'b', label='Pérdida en Validación')\n",
        "plt.title('Pérdida durante el Entrenamiento y Validación')\n",
        "plt.xlabel('Épocas')\n",
        "plt.ylabel('Pérdida')\n",
        "plt.legend()\n",
        "\n",
        "# Gráfico de la Exactitud (Accuracy)\n",
        "plt.subplot(1, 2, 2)\n",
        "plt.plot(epochs, accuracy_values, 'bo', label='Exactitud en Entrenamiento')\n",
        "plt.plot(epochs, val_accuracy_values, 'b', label='Exactitud en Validación')\n",
        "plt.title('Exactitud durante el Entrenamiento y Validación')\n",
        "plt.xlabel('Épocas')\n",
        "plt.ylabel('Exactitud')\n",
        "plt.legend()\n",
        "\n",
        "# Mostrar los gráficos\n",
        "plt.tight_layout()\n",
        "plt.show()\n"
      ],
      "metadata": {
        "colab": {
          "base_uri": "https://localhost:8080/",
          "height": 607
        },
        "id": "W56YZp15wU2E",
        "outputId": "a69e6c1c-4e2a-4671-ec1f-d6024b923884"
      },
      "id": "W56YZp15wU2E",
      "execution_count": null,
      "outputs": [
        {
          "output_type": "display_data",
          "data": {
            "text/plain": [
              "<Figure size 1200x600 with 2 Axes>"
            ],
            "image/png": "[encoded data removed]"
          },
          "metadata": {}
        }
      ]
    },
    {
      "cell_type": "code",
      "source": [
        "from tensorflow.keras.models import Sequential\n",
        "from tensorflow.keras.layers import Dense\n",
        "\n",
        "# Ejemplo de modelo simple\n",
        "model = Sequential([\n",
        "    Dense(64, activation='relu', input_shape=(32,)),\n",
        "    Dense(64, activation='relu'),\n",
        "    Dense(10, activation='softmax')\n",
        "])\n",
        "\n",
        "# Mostrar el resumen del modelo\n",
        "model.summary()\n"
      ],
      "metadata": {
        "colab": {
          "base_uri": "https://localhost:8080/",
          "height": 283
        },
        "id": "-rN0ozgEw6dN",
        "outputId": "00b4aa8d-d5d3-427d-f77d-e303b4c9e328"
      },
      "id": "-rN0ozgEw6dN",
      "execution_count": null,
      "outputs": [
        {
          "output_type": "stream",
          "name": "stderr",
          "text": [
            "/usr/local/lib/python3.10/dist-packages/keras/src/layers/core/dense.py:87: UserWarning: Do not pass an `input_shape`/`input_dim` argument to a layer. When using Sequential models, prefer using an `Input(shape)` object as the first layer in the model instead.\n",
            "  super().__init__(activity_regularizer=activity_regularizer, **kwargs)\n"
          ]
        },
        {
          "output_type": "display_data",
          "data": {
            "text/plain": [
              "\u001b[1mModel: \"sequential\"\u001b[0m\n"
            ],
            "text/html": [
              "<pre style=\"white-space:pre;overflow-x:auto;line-height:normal;font-family:Menlo,'DejaVu Sans Mono',consolas,'Courier New',monospace\"><span style=\"font-weight: bold\">Model: \"sequential\"</span>\n",
              "</pre>\n"
            ]
          },
          "metadata": {}
        },
        {
          "output_type": "display_data",
          "data": {
            "text/plain": [
              "┏━━━━━━━━━━━━━━━━━━━━━━━━━━━━━━━━━━━━━━┳━━━━━━━━━━━━━━━━━━━━━━━━━━━━━┳━━━━━━━━━━━━━━━━━┓\n",
              "┃\u001b[1m \u001b[0m\u001b[1mLayer (type)                        \u001b[0m\u001b[1m \u001b[0m┃\u001b[1m \u001b[0m\u001b[1mOutput Shape               \u001b[0m\u001b[1m \u001b[0m┃\u001b[1m \u001b[0m\u001b[1m        Param #\u001b[0m\u001b[1m \u001b[0m┃\n",
              "┡━━━━━━━━━━━━━━━━━━━━━━━━━━━━━━━━━━━━━━╇━━━━━━━━━━━━━━━━━━━━━━━━━━━━━╇━━━━━━━━━━━━━━━━━┩\n",
              "│ dense (\u001b[38;5;33mDense\u001b[0m)                        │ (\u001b[38;5;45mNone\u001b[0m, \u001b[38;5;34m64\u001b[0m)                  │           \u001b[38;5;34m2,112\u001b[0m │\n",
              "├──────────────────────────────────────┼─────────────────────────────┼─────────────────┤\n",
              "│ dense_1 (\u001b[38;5;33mDense\u001b[0m)                      │ (\u001b[38;5;45mNone\u001b[0m, \u001b[38;5;34m64\u001b[0m)                  │           \u001b[38;5;34m4,160\u001b[0m │\n",
              "├──────────────────────────────────────┼─────────────────────────────┼─────────────────┤\n",
              "│ dense_2 (\u001b[38;5;33mDense\u001b[0m)                      │ (\u001b[38;5;45mNone\u001b[0m, \u001b[38;5;34m10\u001b[0m)                  │             \u001b[38;5;34m650\u001b[0m │\n",
              "└──────────────────────────────────────┴─────────────────────────────┴─────────────────┘\n"
            ],
            "text/html": [
              "<pre style=\"white-space:pre;overflow-x:auto;line-height:normal;font-family:Menlo,'DejaVu Sans Mono',consolas,'Courier New',monospace\">┏━━━━━━━━━━━━━━━━━━━━━━━━━━━━━━━━━━━━━━┳━━━━━━━━━━━━━━━━━━━━━━━━━━━━━┳━━━━━━━━━━━━━━━━━┓\n",
              "┃<span style=\"font-weight: bold\"> Layer (type)                         </span>┃<span style=\"font-weight: bold\"> Output Shape                </span>┃<span style=\"font-weight: bold\">         Param # </span>┃\n",
              "┡━━━━━━━━━━━━━━━━━━━━━━━━━━━━━━━━━━━━━━╇━━━━━━━━━━━━━━━━━━━━━━━━━━━━━╇━━━━━━━━━━━━━━━━━┩\n",
              "│ dense (<span style=\"color: #0087ff; text-decoration-color: #0087ff\">Dense</span>)                        │ (<span style=\"color: #00d7ff; text-decoration-color: #00d7ff\">None</span>, <span style=\"color: #00af00; text-decoration-color: #00af00\">64</span>)                  │           <span style=\"color: #00af00; text-decoration-color: #00af00\">2,112</span> │\n",
              "├──────────────────────────────────────┼─────────────────────────────┼─────────────────┤\n",
              "│ dense_1 (<span style=\"color: #0087ff; text-decoration-color: #0087ff\">Dense</span>)                      │ (<span style=\"color: #00d7ff; text-decoration-color: #00d7ff\">None</span>, <span style=\"color: #00af00; text-decoration-color: #00af00\">64</span>)                  │           <span style=\"color: #00af00; text-decoration-color: #00af00\">4,160</span> │\n",
              "├──────────────────────────────────────┼─────────────────────────────┼─────────────────┤\n",
              "│ dense_2 (<span style=\"color: #0087ff; text-decoration-color: #0087ff\">Dense</span>)                      │ (<span style=\"color: #00d7ff; text-decoration-color: #00d7ff\">None</span>, <span style=\"color: #00af00; text-decoration-color: #00af00\">10</span>)                  │             <span style=\"color: #00af00; text-decoration-color: #00af00\">650</span> │\n",
              "└──────────────────────────────────────┴─────────────────────────────┴─────────────────┘\n",
              "</pre>\n"
            ]
          },
          "metadata": {}
        },
        {
          "output_type": "display_data",
          "data": {
            "text/plain": [
              "\u001b[1m Total params: \u001b[0m\u001b[38;5;34m6,922\u001b[0m (27.04 KB)\n"
            ],
            "text/html": [
              "<pre style=\"white-space:pre;overflow-x:auto;line-height:normal;font-family:Menlo,'DejaVu Sans Mono',consolas,'Courier New',monospace\"><span style=\"font-weight: bold\"> Total params: </span><span style=\"color: #00af00; text-decoration-color: #00af00\">6,922</span> (27.04 KB)\n",
              "</pre>\n"
            ]
          },
          "metadata": {}
        },
        {
          "output_type": "display_data",
          "data": {
            "text/plain": [
              "\u001b[1m Trainable params: \u001b[0m\u001b[38;5;34m6,922\u001b[0m (27.04 KB)\n"
            ],
            "text/html": [
              "<pre style=\"white-space:pre;overflow-x:auto;line-height:normal;font-family:Menlo,'DejaVu Sans Mono',consolas,'Courier New',monospace\"><span style=\"font-weight: bold\"> Trainable params: </span><span style=\"color: #00af00; text-decoration-color: #00af00\">6,922</span> (27.04 KB)\n",
              "</pre>\n"
            ]
          },
          "metadata": {}
        },
        {
          "output_type": "display_data",
          "data": {
            "text/plain": [
              "\u001b[1m Non-trainable params: \u001b[0m\u001b[38;5;34m0\u001b[0m (0.00 B)\n"
            ],
            "text/html": [
              "<pre style=\"white-space:pre;overflow-x:auto;line-height:normal;font-family:Menlo,'DejaVu Sans Mono',consolas,'Courier New',monospace\"><span style=\"font-weight: bold\"> Non-trainable params: </span><span style=\"color: #00af00; text-decoration-color: #00af00\">0</span> (0.00 B)\n",
              "</pre>\n"
            ]
          },
          "metadata": {}
        }
      ]
    }
  ],
  "metadata": {
    "kernelspec": {
      "display_name": "Python 3 (ipykernel)",
      "language": "python",
      "name": "python3"
    },
    "language_info": {
      "codemirror_mode": {
        "name": "ipython",
        "version": 3
      },
      "file_extension": ".py",
      "mimetype": "text/x-python",
      "name": "python",
      "nbconvert_exporter": "python",
      "pygments_lexer": "ipython3",
      "version": "3.8.12"
    },
    "colab": {
      "provenance": []
    }
  },
  "nbformat": 4,
  "nbformat_minor": 5
}